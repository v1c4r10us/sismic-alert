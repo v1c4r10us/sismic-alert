{
 "cells": [
  {
   "cell_type": "code",
   "execution_count": null,
   "metadata": {},
   "outputs": [],
   "source": [
    "import requests\n",
    "from bs4 import BeautifulSoup\n",
    "import pandas as pd\n",
    "from geopy.geocoders import Nominatim"
   ]
  },
  {
   "cell_type": "code",
   "execution_count": null,
   "metadata": {},
   "outputs": [],
   "source": [
    "# Crear el DataFrame vacío\n",
    "df01 = pd.DataFrame()\n",
    "\n",
    "# Realizar un ciclo para obtener los datos de diferentes fechas\n",
    "for day in range(1, 32):  # Desde el día 1 hasta el día 31\n",
    "    # Formatear el día en el formato 'yyyymmdd'\n",
    "    date = f\"202301{day:02d}\"\n",
    "\n",
    "    # Construir la URL con la fecha correspondiente\n",
    "    url = f'https://www.sismologia.cl/sismicidad/catalogo/2023/01/{date}.html'\n",
    "\n",
    "    # Realizar la solicitud GET a la página web\n",
    "    response = requests.get(url)\n",
    "\n",
    "    # Crear el objeto BeautifulSoup\n",
    "    soup = BeautifulSoup(response.content, 'html.parser')\n",
    "\n",
    "    # Encontrar la tabla con la clase \"sismologia detalle\"\n",
    "    table = soup.find('table', {'class': 'sismologia detalle'})\n",
    "\n",
    "    # Extraer los datos de la tabla y guardarlos en una lista de listas\n",
    "    data = []\n",
    "    for row in table.find_all('tr'):\n",
    "        row_data = [cell.get_text(strip=True) for cell in row.find_all('td')]\n",
    "        data.append(row_data)\n",
    "\n",
    "    # Crear un DataFrame temporal para la fecha actual\n",
    "    df_temp = pd.DataFrame(data)\n",
    "\n",
    "    # Agregar una columna adicional para almacenar la fecha\n",
    "    df_temp['Fecha'] = pd.to_datetime(date, format='%Y%m%d')\n",
    "\n",
    "    # Concatenar el DataFrame temporal al DataFrame principal\n",
    "    df01 = pd.concat([df01, df_temp])\n",
    "\n",
    "# Restablecer los índices del DataFrame resultante\n",
    "df01.reset_index(drop=True, inplace=True)"
   ]
  },
  {
   "cell_type": "code",
   "execution_count": null,
   "metadata": {},
   "outputs": [],
   "source": [
    "# Crear el DataFrame vacío\n",
    "df02 = pd.DataFrame()\n",
    "\n",
    "# Realizar un ciclo para obtener los datos de diferentes fechas\n",
    "for day in range(1, 29):  # Desde el día 1 hasta el día 31\n",
    "    # Formatear el día en el formato 'yyyymmdd'\n",
    "    date = f\"202302{day:02d}\"\n",
    "\n",
    "    # Construir la URL con la fecha correspondiente\n",
    "    url = f'https://www.sismologia.cl/sismicidad/catalogo/2023/02/{date}.html'\n",
    "\n",
    "    # Realizar la solicitud GET a la página web\n",
    "    response = requests.get(url)\n",
    "\n",
    "    # Crear el objeto BeautifulSoup\n",
    "    soup = BeautifulSoup(response.content, 'html.parser')\n",
    "\n",
    "    # Encontrar la tabla con la clase \"sismologia detalle\"\n",
    "    table = soup.find('table', {'class': 'sismologia detalle'})\n",
    "\n",
    "    # Extraer los datos de la tabla y guardarlos en una lista de listas\n",
    "    data = []\n",
    "    for row in table.find_all('tr'):\n",
    "        row_data = [cell.get_text(strip=True) for cell in row.find_all('td')]\n",
    "        data.append(row_data)\n",
    "\n",
    "    # Crear un DataFrame temporal para la fecha actual\n",
    "    df_temp = pd.DataFrame(data)\n",
    "\n",
    "    # Agregar una columna adicional para almacenar la fecha\n",
    "    df_temp['Fecha'] = pd.to_datetime(date, format='%Y%m%d')\n",
    "\n",
    "    # Concatenar el DataFrame temporal al DataFrame principal\n",
    "    df02 = pd.concat([df02, df_temp])\n",
    "\n",
    "# Restablecer los índices del DataFrame resultante\n",
    "df02.reset_index(drop=True, inplace=True)"
   ]
  },
  {
   "cell_type": "code",
   "execution_count": null,
   "metadata": {},
   "outputs": [],
   "source": [
    "# Crear el DataFrame vacío\n",
    "df03 = pd.DataFrame()\n",
    "\n",
    "# Realizar un ciclo para obtener los datos de diferentes fechas\n",
    "for day in range(1, 32):  # Desde el día 1 hasta el día 31\n",
    "    # Formatear el día en el formato 'yyyymmdd'\n",
    "    date = f\"202303{day:02d}\"\n",
    "\n",
    "    # Construir la URL con la fecha correspondiente\n",
    "    url = f'https://www.sismologia.cl/sismicidad/catalogo/2023/03/{date}.html'\n",
    "\n",
    "    # Realizar la solicitud GET a la página web\n",
    "    response = requests.get(url)\n",
    "\n",
    "    # Crear el objeto BeautifulSoup\n",
    "    soup = BeautifulSoup(response.content, 'html.parser')\n",
    "\n",
    "    # Encontrar la tabla con la clase \"sismologia detalle\"\n",
    "    table = soup.find('table', {'class': 'sismologia detalle'})\n",
    "\n",
    "    # Extraer los datos de la tabla y guardarlos en una lista de listas\n",
    "    data = []\n",
    "    for row in table.find_all('tr'):\n",
    "        row_data = [cell.get_text(strip=True) for cell in row.find_all('td')]\n",
    "        data.append(row_data)\n",
    "\n",
    "    # Crear un DataFrame temporal para la fecha actual\n",
    "    df_temp = pd.DataFrame(data)\n",
    "\n",
    "    # Agregar una columna adicional para almacenar la fecha\n",
    "    df_temp['Fecha'] = pd.to_datetime(date, format='%Y%m%d')\n",
    "\n",
    "    # Concatenar el DataFrame temporal al DataFrame principal\n",
    "    df03 = pd.concat([df03, df_temp])\n",
    "\n",
    "# Restablecer los índices del DataFrame resultante\n",
    "df03.reset_index(drop=True, inplace=True)"
   ]
  },
  {
   "cell_type": "code",
   "execution_count": null,
   "metadata": {},
   "outputs": [],
   "source": [
    "# Crear el DataFrame vacío\n",
    "df04 = pd.DataFrame()\n",
    "\n",
    "# Realizar un ciclo para obtener los datos de diferentes fechas\n",
    "for day in range(1, 31):  # Desde el día 1 hasta el día 31\n",
    "    # Formatear el día en el formato 'yyyymmdd'\n",
    "    date = f\"202304{day:02d}\"\n",
    "\n",
    "    # Construir la URL con la fecha correspondiente\n",
    "    url = f'https://www.sismologia.cl/sismicidad/catalogo/2023/04/{date}.html'\n",
    "\n",
    "    # Realizar la solicitud GET a la página web\n",
    "    response = requests.get(url)\n",
    "\n",
    "    # Crear el objeto BeautifulSoup\n",
    "    soup = BeautifulSoup(response.content, 'html.parser')\n",
    "\n",
    "    # Encontrar la tabla con la clase \"sismologia detalle\"\n",
    "    table = soup.find('table', {'class': 'sismologia detalle'})\n",
    "\n",
    "    # Extraer los datos de la tabla y guardarlos en una lista de listas\n",
    "    data = []\n",
    "    for row in table.find_all('tr'):\n",
    "        row_data = [cell.get_text(strip=True) for cell in row.find_all('td')]\n",
    "        data.append(row_data)\n",
    "\n",
    "    # Crear un DataFrame temporal para la fecha actual\n",
    "    df_temp = pd.DataFrame(data)\n",
    "\n",
    "    # Agregar una columna adicional para almacenar la fecha\n",
    "    df_temp['Fecha'] = pd.to_datetime(date, format='%Y%m%d')\n",
    "\n",
    "    # Concatenar el DataFrame temporal al DataFrame principal\n",
    "    df04 = pd.concat([df04, df_temp])\n",
    "\n",
    "# Restablecer los índices del DataFrame resultante\n",
    "df04.reset_index(drop=True, inplace=True)"
   ]
  },
  {
   "cell_type": "code",
   "execution_count": null,
   "metadata": {},
   "outputs": [],
   "source": [
    "# Crear el DataFrame vacío\n",
    "df05 = pd.DataFrame()\n",
    "\n",
    "# Realizar un ciclo para obtener los datos de diferentes fechas\n",
    "for day in range(1, 18):  # Desde el día 1 hasta el día 31\n",
    "    # Formatear el día en el formato 'yyyymmdd'\n",
    "    date = f\"202305{day:02d}\"\n",
    "\n",
    "    # Construir la URL con la fecha correspondiente\n",
    "    url = f'https://www.sismologia.cl/sismicidad/catalogo/2023/05/{date}.html'\n",
    "\n",
    "    # Realizar la solicitud GET a la página web\n",
    "    response = requests.get(url)\n",
    "\n",
    "    # Crear el objeto BeautifulSoup\n",
    "    soup = BeautifulSoup(response.content, 'html.parser')\n",
    "\n",
    "    # Encontrar la tabla con la clase \"sismologia detalle\"\n",
    "    table = soup.find('table', {'class': 'sismologia detalle'})\n",
    "\n",
    "    # Extraer los datos de la tabla y guardarlos en una lista de listas\n",
    "    data = []\n",
    "    for row in table.find_all('tr'):\n",
    "        row_data = [cell.get_text(strip=True) for cell in row.find_all('td')]\n",
    "        data.append(row_data)\n",
    "\n",
    "    # Crear un DataFrame temporal para la fecha actual\n",
    "    df_temp = pd.DataFrame(data)\n",
    "\n",
    "    # Agregar una columna adicional para almacenar la fecha\n",
    "    df_temp['Fecha'] = pd.to_datetime(date, format='%Y%m%d')\n",
    "\n",
    "    # Concatenar el DataFrame temporal al DataFrame principal\n",
    "    df05 = pd.concat([df05, df_temp])\n",
    "\n",
    "# Restablecer los índices del DataFrame resultante\n",
    "df05.reset_index(drop=True, inplace=True)"
   ]
  },
  {
   "cell_type": "code",
   "execution_count": null,
   "metadata": {},
   "outputs": [],
   "source": [
    "sismos_chile_2023 = pd.concat([df01, df02, df03, df04, df05])"
   ]
  },
  {
   "cell_type": "code",
   "execution_count": null,
   "metadata": {},
   "outputs": [],
   "source": [
    "# Eliminar la columna 0 y la columna \"Fecha\"\n",
    "sismos_chile_2023 = sismos_chile_2023.drop(columns=[0, \"Fecha\"])\n",
    "\n",
    "# Renombrar las columnas restantes\n",
    "sismos_chile_2023 = sismos_chile_2023.rename(columns={1: \"Fecha\", 2: \"Latitud\", 3: \"Profundidad\", 4: \"Magnitud\"})"
   ]
  },
  {
   "cell_type": "code",
   "execution_count": null,
   "metadata": {},
   "outputs": [],
   "source": [
    "# Eliminar la fila cero\n",
    "sismos_chile_2023 = sismos_chile_2023.drop(0)\n",
    "\n",
    "# Reindexar el DataFrame\n",
    "sismos_chile_2023 = sismos_chile_2023.reset_index(drop=True)"
   ]
  },
  {
   "cell_type": "code",
   "execution_count": null,
   "metadata": {},
   "outputs": [],
   "source": [
    "sismos_chile_2023['Fecha'] = sismos_chile_2023['Fecha'].str.split(' ').str[0]"
   ]
  },
  {
   "cell_type": "code",
   "execution_count": null,
   "metadata": {},
   "outputs": [],
   "source": [
    "# Utilizar expresiones regulares para extraer los valores de Latitud X y Longitud Y\n",
    "sismos_chile_2023[['Latitud X', 'Longitud Y']] = sismos_chile_2023['Latitud'].str.extract(r'^(-?\\d+\\.\\d+)-(-?\\d+\\.\\d+)$')\n",
    "\n",
    "# Asegurar que el valor de Longitud Y tenga el signo negativo \"-\"\n",
    "sismos_chile_2023['Longitud Y'] = '-' + sismos_chile_2023['Longitud Y']"
   ]
  },
  {
   "cell_type": "code",
   "execution_count": null,
   "metadata": {},
   "outputs": [],
   "source": [
    "sismos_chile_2023 = sismos_chile_2023.drop(columns=['Latitud'])"
   ]
  },
  {
   "cell_type": "code",
   "execution_count": null,
   "metadata": {},
   "outputs": [],
   "source": [
    "sismos_chile_2023['Profundidad'] = sismos_chile_2023['Profundidad'].str.replace(' km', '')"
   ]
  },
  {
   "cell_type": "code",
   "execution_count": 92,
   "metadata": {},
   "outputs": [],
   "source": [
    "sismos_chile_2023['Magnitud'] = sismos_chile_2023['Magnitud'].str.replace(' Ml', '')\n",
    "sismos_chile_2023['Magnitud'] = sismos_chile_2023['Magnitud'].str.replace(' M', '')\n",
    "sismos_chile_2023['Magnitud'] = sismos_chile_2023['Magnitud'].str.replace('b', '')\n",
    "sismos_chile_2023['Magnitud'] = sismos_chile_2023['Magnitud'].str.replace('v', '')\n",
    "sismos_chile_2023['Magnitud'] = sismos_chile_2023['Magnitud'].str.replace(' Mw', '')\n",
    "sismos_chile_2023['Magnitud'] = sismos_chile_2023['Magnitud'].str.replace(' Mww', '')"
   ]
  },
  {
   "cell_type": "code",
   "execution_count": null,
   "metadata": {},
   "outputs": [],
   "source": [
    "# Convertir la columna \"Fecha\" a formato de fecha\n",
    "sismos_chile_2023['Fecha'] = pd.to_datetime(sismos_chile_2023['Fecha']).dt.date\n"
   ]
  },
  {
   "cell_type": "code",
   "execution_count": null,
   "metadata": {},
   "outputs": [],
   "source": [
    "sismos_chile_2023.head()"
   ]
  },
  {
   "cell_type": "code",
   "execution_count": null,
   "metadata": {},
   "outputs": [],
   "source": [
    "sismos_chile_2023.dropna()"
   ]
  },
  {
   "cell_type": "code",
   "execution_count": 94,
   "metadata": {},
   "outputs": [
    {
     "name": "stdout",
     "output_type": "stream",
     "text": [
      "Fecha          datetime64[ns]\n",
      "Profundidad             int32\n",
      "Magnitud              float64\n",
      "Latitud X             float64\n",
      "Longitud Y            float64\n",
      "dtype: object\n"
     ]
    }
   ],
   "source": [
    "# Suponiendo que ya tienes el DataFrame \"sismos_chile_2023\" con los campos 'Latitud' y 'Longitud'\n",
    "\n",
    "# Convertir los campos de Latitud y Longitud a tipo float\n",
    "sismos_chile_2023['Latitud X'] = sismos_chile_2023['Latitud X'].astype(float)\n",
    "sismos_chile_2023['Longitud Y'] = sismos_chile_2023['Longitud Y'].astype(float)\n",
    "sismos_chile_2023['Magnitud'] = sismos_chile_2023['Magnitud'].astype(float)\n",
    "sismos_chile_2023['Profundidad'] = sismos_chile_2023['Profundidad'].astype(int)\n",
    "sismos_chile_2023['Fecha'] = pd.to_datetime(sismos_chile_2023['Fecha'])\n",
    "\n",
    "# Verificar el resultado\n",
    "print(sismos_chile_2023.dtypes)"
   ]
  },
  {
   "cell_type": "code",
   "execution_count": 95,
   "metadata": {},
   "outputs": [
    {
     "name": "stdout",
     "output_type": "stream",
     "text": [
      "<class 'pandas.core.frame.DataFrame'>\n",
      "Int64Index: 2659 entries, 0 to 2790\n",
      "Data columns (total 5 columns):\n",
      " #   Column       Non-Null Count  Dtype         \n",
      "---  ------       --------------  -----         \n",
      " 0   Fecha        2659 non-null   datetime64[ns]\n",
      " 1   Profundidad  2659 non-null   int32         \n",
      " 2   Magnitud     2659 non-null   float64       \n",
      " 3   Latitud X    2659 non-null   float64       \n",
      " 4   Longitud Y   2659 non-null   float64       \n",
      "dtypes: datetime64[ns](1), float64(3), int32(1)\n",
      "memory usage: 114.3 KB\n"
     ]
    }
   ],
   "source": [
    "sismos_chile_2023.info()"
   ]
  },
  {
   "cell_type": "code",
   "execution_count": 96,
   "metadata": {},
   "outputs": [],
   "source": [
    "# Crea un objeto geolocalizador\n",
    "geolocator = Nominatim(user_agent=\"my_app\")\n",
    "\n",
    "# Función para obtener la región a partir de las coordenadas\n",
    "def obtener_region(lat, lon):\n",
    "    location = geolocator.reverse((lat, lon), exactly_one=True)\n",
    "    if location is not None:\n",
    "        address = location.raw['address']\n",
    "        return address.get('state', '')\n",
    "    else:\n",
    "        return ''"
   ]
  },
  {
   "cell_type": "code",
   "execution_count": 97,
   "metadata": {},
   "outputs": [],
   "source": [
    "sismos_chile_2023['Region'] = sismos_chile_2023.apply(lambda row: obtener_region(row['Latitud X'], row['Longitud Y']), axis=1)"
   ]
  },
  {
   "cell_type": "code",
   "execution_count": 98,
   "metadata": {},
   "outputs": [
    {
     "data": {
      "text/html": [
       "<div>\n",
       "<style scoped>\n",
       "    .dataframe tbody tr th:only-of-type {\n",
       "        vertical-align: middle;\n",
       "    }\n",
       "\n",
       "    .dataframe tbody tr th {\n",
       "        vertical-align: top;\n",
       "    }\n",
       "\n",
       "    .dataframe thead th {\n",
       "        text-align: right;\n",
       "    }\n",
       "</style>\n",
       "<table border=\"1\" class=\"dataframe\">\n",
       "  <thead>\n",
       "    <tr style=\"text-align: right;\">\n",
       "      <th></th>\n",
       "      <th>Fecha</th>\n",
       "      <th>Profundidad</th>\n",
       "      <th>Magnitud</th>\n",
       "      <th>Latitud X</th>\n",
       "      <th>Longitud Y</th>\n",
       "      <th>Region</th>\n",
       "    </tr>\n",
       "  </thead>\n",
       "  <tbody>\n",
       "    <tr>\n",
       "      <th>0</th>\n",
       "      <td>2023-01-01</td>\n",
       "      <td>240</td>\n",
       "      <td>3.8</td>\n",
       "      <td>-21.998</td>\n",
       "      <td>-67.620</td>\n",
       "      <td>Potosí</td>\n",
       "    </tr>\n",
       "    <tr>\n",
       "      <th>1</th>\n",
       "      <td>2023-01-01</td>\n",
       "      <td>101</td>\n",
       "      <td>2.7</td>\n",
       "      <td>-20.465</td>\n",
       "      <td>-68.985</td>\n",
       "      <td>Región de Tarapacá</td>\n",
       "    </tr>\n",
       "    <tr>\n",
       "      <th>2</th>\n",
       "      <td>2023-01-01</td>\n",
       "      <td>86</td>\n",
       "      <td>2.7</td>\n",
       "      <td>-22.838</td>\n",
       "      <td>-68.821</td>\n",
       "      <td>Región de Antofagasta</td>\n",
       "    </tr>\n",
       "    <tr>\n",
       "      <th>3</th>\n",
       "      <td>2023-01-01</td>\n",
       "      <td>98</td>\n",
       "      <td>2.8</td>\n",
       "      <td>-20.160</td>\n",
       "      <td>-69.144</td>\n",
       "      <td>Región de Tarapacá</td>\n",
       "    </tr>\n",
       "    <tr>\n",
       "      <th>4</th>\n",
       "      <td>2023-01-01</td>\n",
       "      <td>149</td>\n",
       "      <td>3.8</td>\n",
       "      <td>-24.523</td>\n",
       "      <td>-68.002</td>\n",
       "      <td>Salta</td>\n",
       "    </tr>\n",
       "  </tbody>\n",
       "</table>\n",
       "</div>"
      ],
      "text/plain": [
       "       Fecha  Profundidad  Magnitud  Latitud X  Longitud Y  \\\n",
       "0 2023-01-01          240       3.8    -21.998     -67.620   \n",
       "1 2023-01-01          101       2.7    -20.465     -68.985   \n",
       "2 2023-01-01           86       2.7    -22.838     -68.821   \n",
       "3 2023-01-01           98       2.8    -20.160     -69.144   \n",
       "4 2023-01-01          149       3.8    -24.523     -68.002   \n",
       "\n",
       "                  Region  \n",
       "0                 Potosí  \n",
       "1     Región de Tarapacá  \n",
       "2  Región de Antofagasta  \n",
       "3     Región de Tarapacá  \n",
       "4                  Salta  "
      ]
     },
     "execution_count": 98,
     "metadata": {},
     "output_type": "execute_result"
    }
   ],
   "source": [
    "sismos_chile_2023.head()"
   ]
  },
  {
   "cell_type": "code",
   "execution_count": null,
   "metadata": {},
   "outputs": [],
   "source": [
    "sismos_chile_2023.to_csv('sismos_chile_2023.csv', index=False)"
   ]
  }
 ],
 "metadata": {
  "kernelspec": {
   "display_name": "base",
   "language": "python",
   "name": "python3"
  },
  "language_info": {
   "codemirror_mode": {
    "name": "ipython",
    "version": 3
   },
   "file_extension": ".py",
   "mimetype": "text/x-python",
   "name": "python",
   "nbconvert_exporter": "python",
   "pygments_lexer": "ipython3",
   "version": "3.9.0"
  },
  "orig_nbformat": 4
 },
 "nbformat": 4,
 "nbformat_minor": 2
}
